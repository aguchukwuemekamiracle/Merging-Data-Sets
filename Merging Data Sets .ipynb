{
 "cells": [
  {
   "cell_type": "markdown",
   "id": "5de5dc23",
   "metadata": {},
   "source": [
    "# Merging Data Sets Together for Easy Analysis on Python"
   ]
  },
  {
   "cell_type": "markdown",
   "id": "7b3abe63",
   "metadata": {},
   "source": [
    "Import the pandas library"
   ]
  },
  {
   "cell_type": "code",
   "execution_count": 1,
   "id": "7b955196",
   "metadata": {},
   "outputs": [],
   "source": [
    "import pandas as pd"
   ]
  },
  {
   "cell_type": "markdown",
   "id": "a604c38d",
   "metadata": {},
   "source": [
    "Import the various data sets to be used"
   ]
  },
  {
   "cell_type": "code",
   "execution_count": 2,
   "id": "07a9d4cb",
   "metadata": {},
   "outputs": [],
   "source": [
    "df1 = pd.read_csv(\"C:/Users/Miracle/Downloads/Data Assignment - Associate ABC.csv\")\n",
    "df2 = pd.read_csv(\"C:/Users/Miracle/Downloads/Data Assignment - Associate XYZ.csv\")\n",
    "df3 = pd.read_csv(\"C:/Users/Miracle/Downloads/Data Assignment - Associlate KLM.csv\")"
   ]
  },
  {
   "cell_type": "markdown",
   "id": "92ad521b",
   "metadata": {},
   "source": [
    "Add additonal column to each data set to uniquely differentiate rows where each data set is, this will increase readiability upon merging with other data sets"
   ]
  },
  {
   "cell_type": "code",
   "execution_count": 3,
   "id": "1664420c",
   "metadata": {},
   "outputs": [],
   "source": [
    "df1[\"Associate ABC\"] = \"Associate ABC\""
   ]
  },
  {
   "cell_type": "code",
   "execution_count": 4,
   "id": "cf87232e",
   "metadata": {},
   "outputs": [],
   "source": [
    "df2[\"Associate ABC\"] = \"Associate XYZ\""
   ]
  },
  {
   "cell_type": "code",
   "execution_count": 5,
   "id": "c8c7f98f",
   "metadata": {},
   "outputs": [],
   "source": [
    "df3[\"Associate ABC\"] = \"Associlate KLM\""
   ]
  },
  {
   "cell_type": "markdown",
   "id": "de979c46",
   "metadata": {},
   "source": [
    "Check to ensure all columns on the data sets are labeled correctly and make corrections where required"
   ]
  },
  {
   "cell_type": "code",
   "execution_count": 6,
   "id": "3492c447",
   "metadata": {},
   "outputs": [
    {
     "name": "stdout",
     "output_type": "stream",
     "text": [
      "Index(['Date', 'No of Leads', 'Time Spent on LG (in mins)', 'Associate ABC'], dtype='object')\n",
      "Index(['Date', 'No of Leads', 'Time Spent on LG (in mins)', 'Associate ABC'], dtype='object')\n",
      "Index(['Date', 'No of Leads', 'Time Spent on LG', 'Associate ABC'], dtype='object')\n"
     ]
    }
   ],
   "source": [
    "print(df1.columns)\n",
    "print(df2.columns)\n",
    "print(df3.columns)"
   ]
  },
  {
   "cell_type": "code",
   "execution_count": 7,
   "id": "7f5a67cd",
   "metadata": {},
   "outputs": [],
   "source": [
    "df3.rename(columns={\"Time Spent on LG\":\"Time Spent on LG (in mins)\"}, inplace = True)"
   ]
  },
  {
   "cell_type": "markdown",
   "id": "68c3b365",
   "metadata": {},
   "source": [
    "Print first few rows of each data set, this to ensure compactability of the various data sets"
   ]
  },
  {
   "cell_type": "code",
   "execution_count": 8,
   "id": "c0e562ec",
   "metadata": {},
   "outputs": [
    {
     "name": "stdout",
     "output_type": "stream",
     "text": [
      "FIRST FIVE ROWS OF DF1\n",
      "        Date  No of Leads  Time Spent on LG (in mins)  Associate ABC\n",
      "0   9/1/2023          2.0                       300.0  Associate ABC\n",
      "1  10/1/2023          1.0                       300.0  Associate ABC\n",
      "2  11/1/2023          5.0                       300.0  Associate ABC\n",
      "3  12/1/2023          4.0                       300.0  Associate ABC\n",
      "4  13/1/2023          5.0                       300.0  Associate ABC\n",
      "\n",
      "FIRST FIVE ROWS OF DF12\n",
      "        Date  No of Leads  Time Spent on LG (in mins)  Associate ABC\n",
      "0   9/1/2023         10.0                       180.0  Associate XYZ\n",
      "1  10/1/2023         15.0                       300.0  Associate XYZ\n",
      "2  11/1/2023         11.0                       300.0  Associate XYZ\n",
      "3  12/1/2023         11.0                       300.0  Associate XYZ\n",
      "4  13/1/2023         13.0                       300.0  Associate XYZ\n",
      "\n",
      "FIRST FIVE ROWS OF DF13\n",
      "        Date  No of Leads  Time Spent on LG (in mins)   Associate ABC\n",
      "0   9/1/2023          6.0                       540.0  Associlate KLM\n",
      "1  10/1/2023          9.0                       540.0  Associlate KLM\n",
      "2  11/1/2023          NaN                         NaN  Associlate KLM\n",
      "3  12/1/2023         11.0                       540.0  Associlate KLM\n",
      "4  13/1/2023         16.0                       540.0  Associlate KLM\n"
     ]
    }
   ],
   "source": [
    "print(\"FIRST FIVE ROWS OF DF1\")\n",
    "print(df1.head()) \n",
    "print()\n",
    "\n",
    "print(\"FIRST FIVE ROWS OF DF12\")\n",
    "print(df2.head())\n",
    "print()\n",
    "\n",
    "print(\"FIRST FIVE ROWS OF DF13\")\n",
    "print(df3.head())"
   ]
  },
  {
   "cell_type": "markdown",
   "id": "e5586ab3",
   "metadata": {},
   "source": [
    "Merge the data sets <br>\n",
    "Note:The merge data will take the column names of the first data set, as such make corrections if need be"
   ]
  },
  {
   "cell_type": "code",
   "execution_count": 9,
   "id": "4cd6b448",
   "metadata": {},
   "outputs": [],
   "source": [
    "data = pd.concat([df1,df2,df3], axis = 0)"
   ]
  },
  {
   "cell_type": "code",
   "execution_count": 10,
   "id": "3b2ce63e",
   "metadata": {},
   "outputs": [
    {
     "data": {
      "text/html": [
       "<div>\n",
       "<style scoped>\n",
       "    .dataframe tbody tr th:only-of-type {\n",
       "        vertical-align: middle;\n",
       "    }\n",
       "\n",
       "    .dataframe tbody tr th {\n",
       "        vertical-align: top;\n",
       "    }\n",
       "\n",
       "    .dataframe thead th {\n",
       "        text-align: right;\n",
       "    }\n",
       "</style>\n",
       "<table border=\"1\" class=\"dataframe\">\n",
       "  <thead>\n",
       "    <tr style=\"text-align: right;\">\n",
       "      <th></th>\n",
       "      <th>Date</th>\n",
       "      <th>No of Leads</th>\n",
       "      <th>Time Spent on LG (in mins)</th>\n",
       "      <th>Associate ABC</th>\n",
       "    </tr>\n",
       "  </thead>\n",
       "  <tbody>\n",
       "    <tr>\n",
       "      <th>0</th>\n",
       "      <td>9/1/2023</td>\n",
       "      <td>2.0</td>\n",
       "      <td>300.0</td>\n",
       "      <td>Associate ABC</td>\n",
       "    </tr>\n",
       "    <tr>\n",
       "      <th>1</th>\n",
       "      <td>10/1/2023</td>\n",
       "      <td>1.0</td>\n",
       "      <td>300.0</td>\n",
       "      <td>Associate ABC</td>\n",
       "    </tr>\n",
       "    <tr>\n",
       "      <th>2</th>\n",
       "      <td>11/1/2023</td>\n",
       "      <td>5.0</td>\n",
       "      <td>300.0</td>\n",
       "      <td>Associate ABC</td>\n",
       "    </tr>\n",
       "    <tr>\n",
       "      <th>3</th>\n",
       "      <td>12/1/2023</td>\n",
       "      <td>4.0</td>\n",
       "      <td>300.0</td>\n",
       "      <td>Associate ABC</td>\n",
       "    </tr>\n",
       "    <tr>\n",
       "      <th>4</th>\n",
       "      <td>13/1/2023</td>\n",
       "      <td>5.0</td>\n",
       "      <td>300.0</td>\n",
       "      <td>Associate ABC</td>\n",
       "    </tr>\n",
       "  </tbody>\n",
       "</table>\n",
       "</div>"
      ],
      "text/plain": [
       "        Date  No of Leads  Time Spent on LG (in mins)  Associate ABC\n",
       "0   9/1/2023          2.0                       300.0  Associate ABC\n",
       "1  10/1/2023          1.0                       300.0  Associate ABC\n",
       "2  11/1/2023          5.0                       300.0  Associate ABC\n",
       "3  12/1/2023          4.0                       300.0  Associate ABC\n",
       "4  13/1/2023          5.0                       300.0  Associate ABC"
      ]
     },
     "execution_count": 10,
     "metadata": {},
     "output_type": "execute_result"
    }
   ],
   "source": [
    "data.head()"
   ]
  },
  {
   "cell_type": "code",
   "execution_count": 11,
   "id": "ad028e65",
   "metadata": {},
   "outputs": [],
   "source": [
    "data.rename(columns={\"Associate ABC\":\"Employee\"}, inplace = True)"
   ]
  },
  {
   "cell_type": "code",
   "execution_count": 12,
   "id": "05951c28",
   "metadata": {},
   "outputs": [
    {
     "data": {
      "text/html": [
       "<div>\n",
       "<style scoped>\n",
       "    .dataframe tbody tr th:only-of-type {\n",
       "        vertical-align: middle;\n",
       "    }\n",
       "\n",
       "    .dataframe tbody tr th {\n",
       "        vertical-align: top;\n",
       "    }\n",
       "\n",
       "    .dataframe thead th {\n",
       "        text-align: right;\n",
       "    }\n",
       "</style>\n",
       "<table border=\"1\" class=\"dataframe\">\n",
       "  <thead>\n",
       "    <tr style=\"text-align: right;\">\n",
       "      <th></th>\n",
       "      <th>Date</th>\n",
       "      <th>No of Leads</th>\n",
       "      <th>Time Spent on LG (in mins)</th>\n",
       "      <th>Employee</th>\n",
       "    </tr>\n",
       "  </thead>\n",
       "  <tbody>\n",
       "    <tr>\n",
       "      <th>0</th>\n",
       "      <td>9/1/2023</td>\n",
       "      <td>2.0</td>\n",
       "      <td>300.0</td>\n",
       "      <td>Associate ABC</td>\n",
       "    </tr>\n",
       "    <tr>\n",
       "      <th>1</th>\n",
       "      <td>10/1/2023</td>\n",
       "      <td>1.0</td>\n",
       "      <td>300.0</td>\n",
       "      <td>Associate ABC</td>\n",
       "    </tr>\n",
       "    <tr>\n",
       "      <th>2</th>\n",
       "      <td>11/1/2023</td>\n",
       "      <td>5.0</td>\n",
       "      <td>300.0</td>\n",
       "      <td>Associate ABC</td>\n",
       "    </tr>\n",
       "    <tr>\n",
       "      <th>3</th>\n",
       "      <td>12/1/2023</td>\n",
       "      <td>4.0</td>\n",
       "      <td>300.0</td>\n",
       "      <td>Associate ABC</td>\n",
       "    </tr>\n",
       "    <tr>\n",
       "      <th>4</th>\n",
       "      <td>13/1/2023</td>\n",
       "      <td>5.0</td>\n",
       "      <td>300.0</td>\n",
       "      <td>Associate ABC</td>\n",
       "    </tr>\n",
       "  </tbody>\n",
       "</table>\n",
       "</div>"
      ],
      "text/plain": [
       "        Date  No of Leads  Time Spent on LG (in mins)       Employee\n",
       "0   9/1/2023          2.0                       300.0  Associate ABC\n",
       "1  10/1/2023          1.0                       300.0  Associate ABC\n",
       "2  11/1/2023          5.0                       300.0  Associate ABC\n",
       "3  12/1/2023          4.0                       300.0  Associate ABC\n",
       "4  13/1/2023          5.0                       300.0  Associate ABC"
      ]
     },
     "execution_count": 12,
     "metadata": {},
     "output_type": "execute_result"
    }
   ],
   "source": [
    "data.reset_index(drop=True, inplace=True)\n",
    "data.head()"
   ]
  },
  {
   "cell_type": "code",
   "execution_count": 13,
   "id": "3c843408",
   "metadata": {},
   "outputs": [],
   "source": [
    "data = data.dropna()"
   ]
  },
  {
   "cell_type": "code",
   "execution_count": 14,
   "id": "11ef1406",
   "metadata": {},
   "outputs": [
    {
     "data": {
      "text/html": [
       "<div>\n",
       "<style scoped>\n",
       "    .dataframe tbody tr th:only-of-type {\n",
       "        vertical-align: middle;\n",
       "    }\n",
       "\n",
       "    .dataframe tbody tr th {\n",
       "        vertical-align: top;\n",
       "    }\n",
       "\n",
       "    .dataframe thead th {\n",
       "        text-align: right;\n",
       "    }\n",
       "</style>\n",
       "<table border=\"1\" class=\"dataframe\">\n",
       "  <thead>\n",
       "    <tr style=\"text-align: right;\">\n",
       "      <th></th>\n",
       "      <th>No of Leads</th>\n",
       "      <th>Time Spent on LG (in mins)</th>\n",
       "    </tr>\n",
       "  </thead>\n",
       "  <tbody>\n",
       "    <tr>\n",
       "      <th>count</th>\n",
       "      <td>196.000000</td>\n",
       "      <td>196.000000</td>\n",
       "    </tr>\n",
       "    <tr>\n",
       "      <th>mean</th>\n",
       "      <td>9.250000</td>\n",
       "      <td>375.969388</td>\n",
       "    </tr>\n",
       "    <tr>\n",
       "      <th>std</th>\n",
       "      <td>4.166256</td>\n",
       "      <td>100.074737</td>\n",
       "    </tr>\n",
       "    <tr>\n",
       "      <th>min</th>\n",
       "      <td>0.000000</td>\n",
       "      <td>0.000000</td>\n",
       "    </tr>\n",
       "    <tr>\n",
       "      <th>25%</th>\n",
       "      <td>6.000000</td>\n",
       "      <td>300.000000</td>\n",
       "    </tr>\n",
       "    <tr>\n",
       "      <th>50%</th>\n",
       "      <td>10.000000</td>\n",
       "      <td>360.000000</td>\n",
       "    </tr>\n",
       "    <tr>\n",
       "      <th>75%</th>\n",
       "      <td>12.250000</td>\n",
       "      <td>420.000000</td>\n",
       "    </tr>\n",
       "    <tr>\n",
       "      <th>max</th>\n",
       "      <td>23.000000</td>\n",
       "      <td>600.000000</td>\n",
       "    </tr>\n",
       "  </tbody>\n",
       "</table>\n",
       "</div>"
      ],
      "text/plain": [
       "       No of Leads  Time Spent on LG (in mins)\n",
       "count   196.000000                  196.000000\n",
       "mean      9.250000                  375.969388\n",
       "std       4.166256                  100.074737\n",
       "min       0.000000                    0.000000\n",
       "25%       6.000000                  300.000000\n",
       "50%      10.000000                  360.000000\n",
       "75%      12.250000                  420.000000\n",
       "max      23.000000                  600.000000"
      ]
     },
     "execution_count": 14,
     "metadata": {},
     "output_type": "execute_result"
    }
   ],
   "source": [
    "data.describe()"
   ]
  },
  {
   "cell_type": "code",
   "execution_count": 15,
   "id": "f0ae2b63",
   "metadata": {},
   "outputs": [
    {
     "data": {
      "text/html": [
       "<div>\n",
       "<style scoped>\n",
       "    .dataframe tbody tr th:only-of-type {\n",
       "        vertical-align: middle;\n",
       "    }\n",
       "\n",
       "    .dataframe tbody tr th {\n",
       "        vertical-align: top;\n",
       "    }\n",
       "\n",
       "    .dataframe thead th {\n",
       "        text-align: right;\n",
       "    }\n",
       "</style>\n",
       "<table border=\"1\" class=\"dataframe\">\n",
       "  <thead>\n",
       "    <tr style=\"text-align: right;\">\n",
       "      <th></th>\n",
       "      <th>Date</th>\n",
       "      <th>No of Leads</th>\n",
       "      <th>Time Spent on LG (in mins)</th>\n",
       "      <th>Employee</th>\n",
       "    </tr>\n",
       "  </thead>\n",
       "  <tbody>\n",
       "    <tr>\n",
       "      <th>count</th>\n",
       "      <td>196</td>\n",
       "      <td>196.000000</td>\n",
       "      <td>196.000000</td>\n",
       "      <td>196</td>\n",
       "    </tr>\n",
       "    <tr>\n",
       "      <th>unique</th>\n",
       "      <td>113</td>\n",
       "      <td>NaN</td>\n",
       "      <td>NaN</td>\n",
       "      <td>3</td>\n",
       "    </tr>\n",
       "    <tr>\n",
       "      <th>top</th>\n",
       "      <td>27/1/2023</td>\n",
       "      <td>NaN</td>\n",
       "      <td>NaN</td>\n",
       "      <td>Associlate KLM</td>\n",
       "    </tr>\n",
       "    <tr>\n",
       "      <th>freq</th>\n",
       "      <td>4</td>\n",
       "      <td>NaN</td>\n",
       "      <td>NaN</td>\n",
       "      <td>107</td>\n",
       "    </tr>\n",
       "    <tr>\n",
       "      <th>mean</th>\n",
       "      <td>NaN</td>\n",
       "      <td>9.250000</td>\n",
       "      <td>375.969388</td>\n",
       "      <td>NaN</td>\n",
       "    </tr>\n",
       "    <tr>\n",
       "      <th>std</th>\n",
       "      <td>NaN</td>\n",
       "      <td>4.166256</td>\n",
       "      <td>100.074737</td>\n",
       "      <td>NaN</td>\n",
       "    </tr>\n",
       "    <tr>\n",
       "      <th>min</th>\n",
       "      <td>NaN</td>\n",
       "      <td>0.000000</td>\n",
       "      <td>0.000000</td>\n",
       "      <td>NaN</td>\n",
       "    </tr>\n",
       "    <tr>\n",
       "      <th>25%</th>\n",
       "      <td>NaN</td>\n",
       "      <td>6.000000</td>\n",
       "      <td>300.000000</td>\n",
       "      <td>NaN</td>\n",
       "    </tr>\n",
       "    <tr>\n",
       "      <th>50%</th>\n",
       "      <td>NaN</td>\n",
       "      <td>10.000000</td>\n",
       "      <td>360.000000</td>\n",
       "      <td>NaN</td>\n",
       "    </tr>\n",
       "    <tr>\n",
       "      <th>75%</th>\n",
       "      <td>NaN</td>\n",
       "      <td>12.250000</td>\n",
       "      <td>420.000000</td>\n",
       "      <td>NaN</td>\n",
       "    </tr>\n",
       "    <tr>\n",
       "      <th>max</th>\n",
       "      <td>NaN</td>\n",
       "      <td>23.000000</td>\n",
       "      <td>600.000000</td>\n",
       "      <td>NaN</td>\n",
       "    </tr>\n",
       "  </tbody>\n",
       "</table>\n",
       "</div>"
      ],
      "text/plain": [
       "             Date  No of Leads  Time Spent on LG (in mins)        Employee\n",
       "count         196   196.000000                  196.000000             196\n",
       "unique        113          NaN                         NaN               3\n",
       "top     27/1/2023          NaN                         NaN  Associlate KLM\n",
       "freq            4          NaN                         NaN             107\n",
       "mean          NaN     9.250000                  375.969388             NaN\n",
       "std           NaN     4.166256                  100.074737             NaN\n",
       "min           NaN     0.000000                    0.000000             NaN\n",
       "25%           NaN     6.000000                  300.000000             NaN\n",
       "50%           NaN    10.000000                  360.000000             NaN\n",
       "75%           NaN    12.250000                  420.000000             NaN\n",
       "max           NaN    23.000000                  600.000000             NaN"
      ]
     },
     "execution_count": 15,
     "metadata": {},
     "output_type": "execute_result"
    }
   ],
   "source": [
    "data.describe(include = \"all\")"
   ]
  }
 ],
 "metadata": {
  "kernelspec": {
   "display_name": "Python 3 (ipykernel)",
   "language": "python",
   "name": "python3"
  },
  "language_info": {
   "codemirror_mode": {
    "name": "ipython",
    "version": 3
   },
   "file_extension": ".py",
   "mimetype": "text/x-python",
   "name": "python",
   "nbconvert_exporter": "python",
   "pygments_lexer": "ipython3",
   "version": "3.9.12"
  }
 },
 "nbformat": 4,
 "nbformat_minor": 5
}
